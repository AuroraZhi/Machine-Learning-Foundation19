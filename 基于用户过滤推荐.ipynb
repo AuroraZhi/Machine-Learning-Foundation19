{
 "cells": [
  {
   "cell_type": "markdown",
   "metadata": {},
   "source": [
    "# **基于用户过滤推荐**\n",
    "\n"
   ]
  },
  {
   "cell_type": "markdown",
   "metadata": {},
   "source": [
    "**1.问题描述**\n"
   ]
  },
  {
   "cell_type": "markdown",
   "metadata": {},
   "source": [
    "**电影   张三   李四   王五   我**"
   ]
  },
  {
   "cell_type": "markdown",
   "metadata": {},
   "source": [
    "**《新白娘子转》   1\t  4\t    3\t 5**\n"
   ]
  },
  {
   "cell_type": "markdown",
   "metadata": {},
   "source": [
    "**《笑傲江湖》\t   1\t   0\t 4\t  5**\n"
   ]
  },
  {
   "cell_type": "markdown",
   "metadata": {},
   "source": [
    "**《龙门飞甲》\t 0\t   2\t 1\t  0**\n"
   ]
  },
  {
   "cell_type": "markdown",
   "metadata": {},
   "source": [
    "**《泰坦尼克号》\t1\t  1\t    4\t 5**\n"
   ]
  },
  {
   "cell_type": "markdown",
   "metadata": {},
   "source": [
    "\n",
    "**《流浪的地球》\t1\t  1\t    4\t值得看吗？**"
   ]
  },
  {
   "cell_type": "markdown",
   "metadata": {},
   "source": [
    "**2.解决方案**"
   ]
  },
  {
   "cell_type": "code",
   "execution_count": 38,
   "metadata": {},
   "outputs": [],
   "source": [
    "import pandas as pd\n",
    "from math import sqrt"
   ]
  },
  {
   "cell_type": "code",
   "execution_count": 39,
   "metadata": {},
   "outputs": [],
   "source": [
    "def load_date(file):\n",
    "    date=pd.read_csv(file)\n",
    "    return date"
   ]
  },
  {
   "cell_type": "code",
   "execution_count": 40,
   "metadata": {},
   "outputs": [],
   "source": [
    "def get_rating(data,index):\n",
    "    result=[]\n",
    "    result=date[data[\"user_id\"]==index][\"rating\"].values\n",
    "    return result"
   ]
  },
  {
   "cell_type": "code",
   "execution_count": 41,
   "metadata": {},
   "outputs": [],
   "source": [
    "def computer_distance(rating_index,rating_me):\n",
    "    sum=0\n",
    "    for i in range(0,4):\n",
    "        sum=sum+(rating_index[i]-rating_me[i])*(rating_index[i]-rating_me[i])\n",
    "    return sqrt(sum)     "
   ]
  },
  {
   "cell_type": "code",
   "execution_count": 42,
   "metadata": {},
   "outputs": [],
   "source": [
    "def get_distance_with_me(date,index):\n",
    "    rating_index=[]\n",
    "    rating_me=[]\n",
    "    rating_index=get_rating(date,index)\n",
    "    print(rating_index)\n",
    "    result=computer_distance(rating_index,rating_me)"
   ]
  },
  {
   "cell_type": "code",
   "execution_count": 43,
   "metadata": {},
   "outputs": [],
   "source": [
    "def find_min_distance(map):\n",
    "    index=0\n",
    "    distance=0\n",
    "    min=99999\n",
    "    for key,vaiue in map.items():\n",
    "        print(\"key:%s,vlalue:%s\"%(key,value))\n",
    "        if min>value:\n",
    "            min=value\n",
    "            index=key\n",
    "    distance=min\n",
    "    return index,distance"
   ]
  },
  {
   "cell_type": "code",
   "execution_count": null,
   "metadata": {},
   "outputs": [],
   "source": [
    "file= \"C:\\\\Users\\\\华华\\\\Desktop\\\\movie.csv\"\n",
    "data= load_date(file,engine="python")\n",
    "print(data[data[\"user_id\"]==1][\"rating\"].values)"
   ]
  },
  {
   "cell_type": "code",
   "execution_count": null,
   "metadata": {},
   "outputs": [],
   "source": [
    "map={}\n",
    "for i in range(1,4):\n",
    "    map[i]=get_distance_with_me(date,i)\n",
    "    print(map[i])"
   ]
  },
  {
   "cell_type": "code",
   "execution_count": null,
   "metadata": {},
   "outputs": [],
   "source": [
    "index,distance=find_min_distance(map)\n",
    "print(\"第%s人更我的距离最接近，他的值是%s\"%(index,distance))"
   ]
  },
  {
   "cell_type": "code",
   "execution_count": 6,
   "metadata": {},
   "outputs": [
    {
     "name": "stdout",
     "output_type": "stream",
     "text": [
      "55\n"
     ]
    }
   ],
   "source": [
    "sum=0\n",
    "for i in range(1,11):\n",
    "    sum=sum+i\n",
    "print(sum)"
   ]
  },
  {
   "cell_type": "code",
   "execution_count": null,
   "metadata": {},
   "outputs": [],
   "source": []
  }
 ],
 "metadata": {
  "kernelspec": {
   "display_name": "Python 3",
   "language": "python",
   "name": "python3"
  },
  "language_info": {
   "codemirror_mode": {
    "name": "ipython",
    "version": 3
   },
   "file_extension": ".py",
   "mimetype": "text/x-python",
   "name": "python",
   "nbconvert_exporter": "python",
   "pygments_lexer": "ipython3",
   "version": "3.7.1"
  }
 },
 "nbformat": 4,
 "nbformat_minor": 2
}
